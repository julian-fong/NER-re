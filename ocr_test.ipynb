{
 "cells": [
  {
   "cell_type": "code",
   "execution_count": null,
   "metadata": {},
   "outputs": [],
   "source": [
    "import easyocr\n",
    "import pypdfium2 as pdfium\n",
    "import cv2\n",
    "import os\n",
    "import re\n",
    "from PIL import Image\n",
    "import numpy as np\n",
    "\n",
    "import matplotlib.pyplot as plt\n",
    "import pdf2image\n",
    "\n",
    "import torch\n",
    "\n",
    "reader = easyocr.Reader(['en'])"
   ]
  },
  {
   "cell_type": "code",
   "execution_count": null,
   "metadata": {},
   "outputs": [],
   "source": [
    "torch.cuda.is_available()"
   ]
  },
  {
   "cell_type": "code",
   "execution_count": null,
   "metadata": {},
   "outputs": [],
   "source": [
    "import os\n",
    "\n",
    "def list_pdf_files(directory):\n",
    "    pdf_files = []\n",
    "    for file in os.listdir(directory):\n",
    "        if file.endswith(\".pdf\"):\n",
    "            pdf_files.append(file)\n",
    "    return pdf_files\n",
    "\n",
    "# Example usage:\n",
    "directory_path = os.getcwd()+\"\\\\leases\"\n",
    "pdf_files = list_pdf_files(directory_path)\n",
    "len(pdf_files)\n"
   ]
  },
  {
   "cell_type": "code",
   "execution_count": null,
   "metadata": {},
   "outputs": [],
   "source": [
    "os.getcwd()\n",
    "\n",
    "file = os.getcwd()+\"\\\\leases\\\\0247_001.pdf\"\n",
    "\n",
    "poppler_path = r\"D:\\Release-23.08.0-0\\poppler-23.08.0\\Library\\bin\"\n",
    "\n",
    "# images = pdfium.PdfDocument(file)\n",
    "\n",
    "im = pdf2image.convert_from_path(file, poppler_path=poppler_path)"
   ]
  },
  {
   "cell_type": "code",
   "execution_count": null,
   "metadata": {},
   "outputs": [],
   "source": [
    "im[0]\n",
    "pic = im[0]\n",
    "a = np.array(im[15])\n",
    "\n",
    "b = a[100:1000] #page 1, landlord\n",
    "c = cv2.cvtColor(b, cv2.COLOR_BGR2GRAY)\n",
    "c = cv2.bitwise_not(c)\n",
    "\n",
    "test = Image.fromarray(c)\n",
    "test"
   ]
  },
  {
   "cell_type": "code",
   "execution_count": null,
   "metadata": {},
   "outputs": [],
   "source": [
    "results = reader.readtext(c, paragraph = True, batch_size = 4, detail = 0)\n",
    "full_text = ' '.join([text for (text) in results])\n",
    "print(full_text)"
   ]
  },
  {
   "cell_type": "code",
   "execution_count": null,
   "metadata": {},
   "outputs": [],
   "source": [
    "#main cell to count the number of 400 forms in the lease directory\n",
    "z = 0\n",
    "files_with_400 = [] #initialize list that will get all the file names with 400 forms inside thems\n",
    "directory_path = os.getcwd()+\"\\\\leases\"\n",
    "for file in os.listdir(directory_path):\n",
    "    if file.endswith(\".pdf\"):\n",
    "        path = os.getcwd()+\"\\\\leases\\\\\"+file\n",
    "        im = pdf2image.convert_from_path(path, poppler_path=poppler_path)\n",
    "\n",
    "        for i, image in enumerate(im):\n",
    "            a = np.array(image)\n",
    "            b = a[100:1000] #page 1, landlord\n",
    "            c = cv2.cvtColor(b, cv2.COLOR_BGR2GRAY)\n",
    "            c = cv2.bitwise_not(c)\n",
    "            results = reader.readtext(c, paragraph = True, batch_size = 4, detail = 0)\n",
    "            full_text = ' '.join([text for (text) in results])\n",
    "            # print(full_text)\n",
    "            if \"Form 400\" in full_text and \"Schedule A\" not in full_text:\n",
    "                z += 1\n",
    "                # print(z, f\"400 in file {file} in page {i}\")\n",
    "                files_with_400.append(file)\n",
    "                break\n",
    "            else:\n",
    "                # print(f\"no 400 in file {file} in page {i}\")\n",
    "                pass"
   ]
  },
  {
   "cell_type": "code",
   "execution_count": null,
   "metadata": {},
   "outputs": [],
   "source": [
    "import pickle\n",
    "\n",
    "with open('400_leases_list.pkl', 'wb') as f:\n",
    "    pickle.dump(files_with_400, f)"
   ]
  }
 ],
 "metadata": {
  "kernelspec": {
   "display_name": "Python 3",
   "language": "python",
   "name": "python3"
  },
  "language_info": {
   "codemirror_mode": {
    "name": "ipython",
    "version": 3
   },
   "file_extension": ".py",
   "mimetype": "text/x-python",
   "name": "python",
   "nbconvert_exporter": "python",
   "pygments_lexer": "ipython3",
   "version": "3.10.12"
  }
 },
 "nbformat": 4,
 "nbformat_minor": 2
}
