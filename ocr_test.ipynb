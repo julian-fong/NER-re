{
 "cells": [
  {
   "cell_type": "code",
   "execution_count": null,
   "metadata": {},
   "outputs": [],
   "source": [
    "import easyocr\n",
    "import cv2\n",
    "import os\n",
    "import numpy as np\n",
    "from PIL import Image\n",
    "import pdf2image\n",
    "\n",
    "import torch\n",
    "\n",
    "reader = easyocr.Reader(['en'])\n",
    "poppler_path = r\"D:\\Release-23.08.0-0\\poppler-23.08.0\\Library\\bin\""
   ]
  },
  {
   "cell_type": "code",
   "execution_count": null,
   "metadata": {},
   "outputs": [],
   "source": [
    "torch.cuda.is_available()"
   ]
  },
  {
   "cell_type": "code",
   "execution_count": 22,
   "metadata": {},
   "outputs": [],
   "source": [
    "os.getcwd()\n",
    "\n",
    "file = os.getcwd()+\"\\\\leases\\\\0228_001.pdf\"\n",
    "\n",
    "im = pdf2image.convert_from_path(file, poppler_path=poppler_path)"
   ]
  },
  {
   "cell_type": "code",
   "execution_count": 23,
   "metadata": {},
   "outputs": [],
   "source": [
    "im[0]\n",
    "pic = im[0]\n",
    "a = np.array(im[12])\n",
    "\n",
    "b = a[100:1000] #page 1, landlord\n",
    "c = cv2.cvtColor(b, cv2.COLOR_BGR2GRAY)\n",
    "c = cv2.bitwise_not(c)\n",
    "\n",
    "test = Image.fromarray(c)\n",
    "# test"
   ]
  },
  {
   "cell_type": "code",
   "execution_count": 24,
   "metadata": {},
   "outputs": [
    {
     "name": "stdout",
     "output_type": "stream",
     "text": [
      "OREA Ontario Real Estate Agreement to Lease Association Residential Form 400 For use in the Province of Ontario January 2024 day of This Agreement to Lease (Agreement) dated this TENANT: Shima Zarghamifar Omid Omidvari & (Full legal names of all Tenants) & IFuli legal name of Landlord) Vivian Choy Laurence Lau LANDLORD: ADDRESS OF LANDLORD: jLegal address for Ihe purpose of receiving notices) The Tenant hereby offers fo lease from Ihe Landlord the premises as described herein on the terms and subject to the conditions @s set out in this Agreement: For the purposes of this Agreement 'Tenant\" includes lessee and \"Landlord\" includes lessor: PREMISES: Having inspected the premises and provided the present tenant vacates, Vwe, the Tenant hereby offer lo lease, premises known as: 9471 Yonge St Ph03 Richmond Hill L4C 025 One Year commencing February 2024 2. TERM OF LEASE: The lease shall be for & term of 3. RENT: The Tenant will pay lo Ihe said Landlord monthly and every month during the said term of the lease the sum of Two_Thousand Six Hundred Fifty_ Dollars (CDNS): 2,650.00 payable in advance on the Ist day of each and every month during the currency of the said term . First and last months\" rent to be paid in advance upon completion or date of occupancy, whichever comes First. 4. DEPOSIT AND PREPAID RENT: The Tenant delivers_ upon acceptance IHerewith; VUpon acceplance/ as olherwise described in this Agreement}\n"
     ]
    }
   ],
   "source": [
    "results = reader.readtext(c, paragraph = True, batch_size = 4, detail = 0)\n",
    "full_text = ' '.join([text for (text) in results])\n",
    "print(full_text)"
   ]
  },
  {
   "cell_type": "code",
   "execution_count": null,
   "metadata": {},
   "outputs": [],
   "source": [
    "#files_with_400 = [] #initialize list that will get all the file names with 400 forms inside thems"
   ]
  },
  {
   "cell_type": "code",
   "execution_count": null,
   "metadata": {},
   "outputs": [],
   "source": [
    "#main cell to count the number of 400 forms in the lease directory\n",
    "z = 0\n",
    "directory_path = os.getcwd()+\"\\\\leases\\\\\"\n",
    "for file in os.listdir(directory_path):\n",
    "    if file.endswith(\".pdf\"):\n",
    "        path = directory_path+file\n",
    "        im = pdf2image.convert_from_path(path, poppler_path=poppler_path)\n",
    "\n",
    "        for i, image in enumerate(im):\n",
    "            a = np.array(image)\n",
    "            b = a[100:1000] #page 1, landlord\n",
    "            c = cv2.cvtColor(b, cv2.COLOR_BGR2GRAY)\n",
    "            c = cv2.bitwise_not(c)\n",
    "            results = reader.readtext(c, paragraph = True, batch_size = 4, detail = 0)\n",
    "            full_text = ' '.join([text for (text) in results])\n",
    "            # print(full_text)\n",
    "            if \"Form 400\" in full_text and \"Schedule A\" not in full_text:\n",
    "                z += 1\n",
    "                print(z, f\"400 in file {file} in page {i}\")\n",
    "                files_with_400.append(file)\n",
    "                break\n",
    "            else:\n",
    "                print(f\"no 400 in file {file} in page {i}\")\n",
    "                pass"
   ]
  },
  {
   "cell_type": "code",
   "execution_count": 12,
   "metadata": {},
   "outputs": [],
   "source": [
    "import pickle\n",
    "\n",
    "# with open('400_leases_list.pkl', 'wb') as f:\n",
    "#     pickle.dump(files_with_400, f)\n",
    "\n",
    "with open('400_leases_list.pkl', 'rb') as f:\n",
    "    files_with_400 = pickle.load(f)"
   ]
  },
  {
   "cell_type": "code",
   "execution_count": 17,
   "metadata": {},
   "outputs": [
    {
     "name": "stdout",
     "output_type": "stream",
     "text": [
      "GREA Ontario Real Estate Agreement to Lease Association Residential Form 400 for use in the Province of Ontario December 2023 17 day of This Agreement to Lease (Agreement) dated this Wing Lam Winnie Choi Man Yee Choi TENANT: (Full legal names of all Tenants) LANDLORD: Bao Quanh Vivian Ly {Fuli 'iegal name of Landlord ADDRESS OF LANDLORD: ilegal address for the purpose of receiving notices) The Tenant hereby offers to lease from Ihe Landlord the premises as described herein on the terms and subject to Ihe conditions as set out in this Agreement. For the purposes of this Agreement \"Tenant\" includes lessee and \"Landlord\" includes lessor: PREMISES: Having inspected the premises and provided Ihe present tenant vacates, Vwe, the Tenant hereby offer to lease, premises known as: 8119 Birchmount Rd 604 Markham L6GOHS year January 2024 2. TERM OF LEASE: The lease shall be for & term of commencing 3 RENT: The Tenant will pay to the said Landlord monthly and every month during the said term of the lease Ithe sum of Two Thousand Five Hundred Dollars (CDNS) 2 500 00 payable in advance on the lst day of each and every month during the currency of the said term . First and last months\" rent to be paid in advance upon completion or date of occupancy, whichever comes first. 4 DEPOSIT AND PREPAID RENT: The Tenant delivers upon acceptance (Herewith/Upon acceptance/ a5 olherwise described in this Agreement)\n"
     ]
    }
   ],
   "source": [
    "os.getcwd()\n",
    "\n",
    "file = os.getcwd()+\"\\\\leases\\\\0120_001.pdf\"\n",
    "\n",
    "im = pdf2image.convert_from_path(file, poppler_path=poppler_path)\n",
    "a = np.array(im[11])\n",
    "\n",
    "b = a[100:1000] #page 1, landlord\n",
    "c = cv2.cvtColor(b, cv2.COLOR_BGR2GRAY)\n",
    "c = cv2.bitwise_not(c)\n",
    "\n",
    "test = Image.fromarray(c)\n",
    "# test\n",
    "\n",
    "results = reader.readtext(c, paragraph = True, batch_size = 4, detail = 0)\n",
    "full_text2 = ' '.join([text for (text) in results])"
   ]
  },
  {
   "cell_type": "code",
   "execution_count": 139,
   "metadata": {},
   "outputs": [],
   "source": [
    "full_text = \"GREA Ontario Real Estate Agreement to Lease Association Residential Form 400 for use in the Province of Ontario December 2023 17 day of This Agreement to Lease (Agreement) dated this John Adam Willie Smith Justin Ling Wang TENANT: (Full legal names of all Tenants) LANDLORD: Julie Kim Benedict Li {Fuli 'iegal name of Landlord ADDRESS OF LANDLORD: ilegal address for the purpose of receiving notices) The Tenant hereby offers to lease from Ihe Landlord the premises as described herein on the terms and subject to Ihe conditions as set out in this Agreement. For the purposes of this Agreement 'Tenant' includes lessee and 'Landlord' includes lessor: PREMISES: Having inspected the premises and provided Ihe present tenant vacates, Vwe, the Tenant hereby offer to lease, premises known as: 123 Front Street 101 Toronto L4E E4J year January 2024 2. TERM OF LEASE: The lease shall be for & term of commencing 3 RENT: The Tenant will pay to the said Landlord monthly and every month during the said term of the lease Ithe sum of Two Thousand Five Hundred Dollars (CDNS) 2 500 00 payable in advance on the lst day of each and every month during the currency of the said term . First and last months' rent to be paid in advance upon completion or date of occupancy, whichever comes first. 4 DEPOSIT AND PREPAID RENT: The Tenant delivers upon acceptance (Herewith/Upon acceptance/ a5 olherwise described in this Agreement)\""
   ]
  },
  {
   "cell_type": "code",
   "execution_count": 155,
   "metadata": {},
   "outputs": [],
   "source": [
    "full_text2 = \"OREA Ontario Real Estate Agreement to Lease Association Residential Form 400 For use in the Province of Ontario January 2024 day of This Agreement to Lease (Agreement) dated this TENANT: Shirley Zarghamifar John Omidvari & (Full legal names of all Tenants) & IFuli legal name of Landlord) Julie Smith Terrence Tao LANDLORD: ADDRESS OF LANDLORD: jLegal address for Ihe purpose of receiving notices) The Tenant hereby offers fo lease from Ihe Landlord the premises as described herein on the terms and subject to the conditions @s set out in this Agreement: For the purposes of this Agreement \\'Tenant' includes lessee and 'Landlord' includes lessor: PREMISES: Having inspected the premises and provided the present tenant vacates, Vwe, the Tenant hereby offer lo lease, premises known as: 1234 Yonge St Ph03 Ryerson Mill M4S C8X One Year commencing February 2024 2. TERM OF LEASE: The lease shall be for & term of 3. RENT: The Tenant will pay lo Ihe said Landlord monthly and every month during the said term of the lease the sum of Two_Thousand Six Hundred Fifty_ Dollars (CDNS): 2,650.00 payable in advance on the Ist day of each and every month during the currency of the said term . First and last months' rent to be paid in advance upon completion or date of occupancy, whichever comes First. 4. DEPOSIT AND PREPAID RENT: The Tenant delivers_ upon acceptance IHerewith; VUpon acceplance/ as olherwise described in this Agreement}\""
   ]
  },
  {
   "cell_type": "code",
   "execution_count": 141,
   "metadata": {},
   "outputs": [
    {
     "data": {
      "text/plain": [
       "240"
      ]
     },
     "execution_count": 141,
     "metadata": {},
     "output_type": "execute_result"
    }
   ],
   "source": [
    "len(full_text.split())"
   ]
  },
  {
   "cell_type": "code",
   "execution_count": 164,
   "metadata": {},
   "outputs": [],
   "source": [
    "import re\n",
    "\n",
    "tenant_re = \"TENANT: \"+re.search(r'Agreement to Lease(.*)TENANT', full_text).group(1)\n",
    "tenant_re2 = \"TENANT: \"+re.search(r'TENANT(.*)LANDLORD', full_text).group(1) #might have both tenant and landlord\n",
    "landlord_re = \"LANDLORD: \"+re.search(r'LANDLORD:(.*)ADDRESS OF LANDLORD', full_text).group(1)\n",
    "term_of_lease_re = \"TERM OF LEASE: \"+re.search(r\"premises known as:(.*)3.\", full_text).group(1)\n",
    "address_re = \"ADDRESS: \"+re.search(r'premises known as:(.*)RENT', full_text).group(1)\n",
    "\n",
    "#use regular re for rent"
   ]
  },
  {
   "cell_type": "code",
   "execution_count": 165,
   "metadata": {},
   "outputs": [
    {
     "data": {
      "text/plain": [
       "'TERM OF LEASE:  123 Front Street 101 Toronto L4E E4J year January 2024 2. TERM OF LEASE: The lease shall be for & term of commencing '"
      ]
     },
     "execution_count": 165,
     "metadata": {},
     "output_type": "execute_result"
    }
   ],
   "source": [
    "term_of_lease_re"
   ]
  },
  {
   "cell_type": "code",
   "execution_count": 166,
   "metadata": {},
   "outputs": [
    {
     "data": {
      "text/plain": [
       "\"LANDLORD:  Julie Kim Benedict Li {Fuli 'iegal name of Landlord \""
      ]
     },
     "execution_count": 166,
     "metadata": {},
     "output_type": "execute_result"
    }
   ],
   "source": [
    "landlord_re"
   ]
  },
  {
   "cell_type": "code",
   "execution_count": 167,
   "metadata": {},
   "outputs": [
    {
     "data": {
      "text/plain": [
       "'TENANT:  Association Residential Form 400 for use in the Province of Ontario December 2023 17 day of This Agreement to Lease (Agreement) dated this John Adam Willie Smith Justin Ling Wang '"
      ]
     },
     "execution_count": 167,
     "metadata": {},
     "output_type": "execute_result"
    }
   ],
   "source": [
    "tenant_re"
   ]
  },
  {
   "cell_type": "code",
   "execution_count": 168,
   "metadata": {},
   "outputs": [
    {
     "data": {
      "text/plain": [
       "\"TENANT: : (Full legal names of all Tenants) LANDLORD: Julie Kim Benedict Li {Fuli 'iegal name of Landlord ADDRESS OF \""
      ]
     },
     "execution_count": 168,
     "metadata": {},
     "output_type": "execute_result"
    }
   ],
   "source": [
    "tenant_re2"
   ]
  },
  {
   "cell_type": "code",
   "execution_count": 169,
   "metadata": {},
   "outputs": [
    {
     "data": {
      "text/plain": [
       "\"ADDRESS:  123 Front Street 101 Toronto L4E E4J year January 2024 2. TERM OF LEASE: The lease shall be for & term of commencing 3 RENT: The Tenant will pay to the said Landlord monthly and every month during the said term of the lease Ithe sum of Two Thousand Five Hundred Dollars (CDNS) 2 500 00 payable in advance on the lst day of each and every month during the currency of the said term . First and last months' rent to be paid in advance upon completion or date of occupancy, whichever comes first. 4 DEPOSIT AND PREPAID \""
      ]
     },
     "execution_count": 169,
     "metadata": {},
     "output_type": "execute_result"
    }
   ],
   "source": [
    "address_re"
   ]
  },
  {
   "cell_type": "code",
   "execution_count": 47,
   "metadata": {},
   "outputs": [],
   "source": [
    "import transformers, datasets\n",
    "from datasets import load_dataset\n",
    "from transformers import AutoModel, AutoTokenizer"
   ]
  },
  {
   "cell_type": "code",
   "execution_count": 41,
   "metadata": {},
   "outputs": [],
   "source": [
    "model_name = \"dslim/distilbert-NER\"\n",
    "model_name2 = \"distilbert/distilbert-base-uncased\"\n",
    "\n",
    "tokenizer = AutoTokenizer.from_pretrained(model_name)\n",
    "tokenizer2 = AutoTokenizer.from_pretrained(model_name)"
   ]
  },
  {
   "cell_type": "code",
   "execution_count": 48,
   "metadata": {},
   "outputs": [],
   "source": [
    "wnut = load_dataset(\"wnut_17\")"
   ]
  },
  {
   "cell_type": "code",
   "execution_count": 50,
   "metadata": {},
   "outputs": [
    {
     "data": {
      "text/plain": [
       "{'id': '0',\n",
       " 'tokens': ['@paulwalk',\n",
       "  'It',\n",
       "  \"'s\",\n",
       "  'the',\n",
       "  'view',\n",
       "  'from',\n",
       "  'where',\n",
       "  'I',\n",
       "  \"'m\",\n",
       "  'living',\n",
       "  'for',\n",
       "  'two',\n",
       "  'weeks',\n",
       "  '.',\n",
       "  'Empire',\n",
       "  'State',\n",
       "  'Building',\n",
       "  '=',\n",
       "  'ESB',\n",
       "  '.',\n",
       "  'Pretty',\n",
       "  'bad',\n",
       "  'storm',\n",
       "  'here',\n",
       "  'last',\n",
       "  'evening',\n",
       "  '.'],\n",
       " 'ner_tags': [0,\n",
       "  0,\n",
       "  0,\n",
       "  0,\n",
       "  0,\n",
       "  0,\n",
       "  0,\n",
       "  0,\n",
       "  0,\n",
       "  0,\n",
       "  0,\n",
       "  0,\n",
       "  0,\n",
       "  0,\n",
       "  7,\n",
       "  8,\n",
       "  8,\n",
       "  0,\n",
       "  7,\n",
       "  0,\n",
       "  0,\n",
       "  0,\n",
       "  0,\n",
       "  0,\n",
       "  0,\n",
       "  0,\n",
       "  0]}"
      ]
     },
     "execution_count": 50,
     "metadata": {},
     "output_type": "execute_result"
    }
   ],
   "source": [
    "example = wnut[\"train\"][0]\n",
    "example"
   ]
  },
  {
   "cell_type": "code",
   "execution_count": 53,
   "metadata": {},
   "outputs": [
    {
     "name": "stdout",
     "output_type": "stream",
     "text": [
      "['Using', 'a', 'transform', '##er', 'network', 'is', 'simple']\n"
     ]
    },
    {
     "data": {
      "text/plain": [
       "{'input_ids': [101, 7993, 170, 11303, 108, 108, 14044, 2443, 1110, 3014, 102], 'attention_mask': [1, 1, 1, 1, 1, 1, 1, 1, 1, 1, 1]}"
      ]
     },
     "execution_count": 53,
     "metadata": {},
     "output_type": "execute_result"
    }
   ],
   "source": [
    "sentence = \"Using a transformer network is simple\"\n",
    "split_sentence = tokenizer.tokenize(sentence)\n",
    "print(split_sentence)\n",
    "\n",
    "tokenized_input = tokenizer(split_sentence, is_split_into_words = True)\n",
    "tokenized_input"
   ]
  },
  {
   "cell_type": "code",
   "execution_count": 54,
   "metadata": {},
   "outputs": [
    {
     "data": {
      "text/plain": [
       "['[CLS]',\n",
       " 'Using',\n",
       " 'a',\n",
       " 'transform',\n",
       " '#',\n",
       " '#',\n",
       " 'er',\n",
       " 'network',\n",
       " 'is',\n",
       " 'simple',\n",
       " '[SEP]']"
      ]
     },
     "execution_count": 54,
     "metadata": {},
     "output_type": "execute_result"
    }
   ],
   "source": [
    "tokens = tokenizer.convert_ids_to_tokens(tokenized_input[\"input_ids\"])\n",
    "tokens"
   ]
  }
 ],
 "metadata": {
  "kernelspec": {
   "display_name": "Python 3",
   "language": "python",
   "name": "python3"
  },
  "language_info": {
   "codemirror_mode": {
    "name": "ipython",
    "version": 3
   },
   "file_extension": ".py",
   "mimetype": "text/x-python",
   "name": "python",
   "nbconvert_exporter": "python",
   "pygments_lexer": "ipython3",
   "version": "3.10.12"
  }
 },
 "nbformat": 4,
 "nbformat_minor": 2
}
