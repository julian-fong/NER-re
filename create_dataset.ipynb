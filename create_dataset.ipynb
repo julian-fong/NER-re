{
 "cells": [
  {
   "cell_type": "code",
   "execution_count": 7,
   "metadata": {},
   "outputs": [],
   "source": [
    "import easyocr\n",
    "import cv2\n",
    "import os\n",
    "import numpy as np\n",
    "from PIL import Image\n",
    "import pdf2image\n",
    "import pickle\n",
    "import torch\n",
    "import pandas as pd\n",
    "reader = easyocr.Reader(['en'])\n",
    "poppler_path = r\"D:\\Release-23.08.0-0\\poppler-23.08.0\\Library\\bin\""
   ]
  },
  {
   "cell_type": "code",
   "execution_count": 5,
   "metadata": {},
   "outputs": [],
   "source": [
    "with open('400_leases_list.pkl', 'rb') as f:\n",
    "    files_with_400 = pickle.load(f)\n",
    "\n",
    "df = pd.DataFrame(columns = ['source_sentence','source_file'])"
   ]
  },
  {
   "cell_type": "code",
   "execution_count": 8,
   "metadata": {},
   "outputs": [
    {
     "name": "stdout",
     "output_type": "stream",
     "text": [
      "1\n",
      "2\n",
      "3\n",
      "4\n",
      "5\n",
      "6\n",
      "7\n",
      "8\n",
      "9\n",
      "10\n",
      "11\n",
      "12\n",
      "13\n",
      "14\n",
      "15\n",
      "16\n",
      "17\n",
      "18\n",
      "19\n",
      "20\n",
      "21\n",
      "22\n",
      "23\n",
      "24\n",
      "25\n",
      "26\n",
      "27\n",
      "28\n",
      "29\n",
      "30\n",
      "31\n",
      "32\n"
     ]
    }
   ],
   "source": [
    "#main cell to extract the lease information from the lease dir\n",
    "directory_path = os.getcwd()+\"\\\\leases\\\\\"\n",
    "for file in os.listdir(directory_path):\n",
    "    if file.endswith(\".pdf\") and file in files_with_400:\n",
    "        path = directory_path+file\n",
    "        im = pdf2image.convert_from_path(path, poppler_path=poppler_path)\n",
    "\n",
    "        for i, image in enumerate(im):\n",
    "            a = np.array(image)\n",
    "            b = a[100:1000] #page 1, landlord\n",
    "            c = cv2.cvtColor(b, cv2.COLOR_BGR2GRAY)\n",
    "            c = cv2.bitwise_not(c)\n",
    "            results = reader.readtext(c, paragraph = True, batch_size = 4, detail = 0)\n",
    "            full_text = ' '.join([text for (text) in results])\n",
    "            # print(full_text)\n",
    "            if \"Form 400\" in full_text and \"Schedule A\" not in full_text:\n",
    "                sentence = {'source_sentence': full_text, 'source_file': file}\n",
    "                df = pd.concat([df, pd.DataFrame([sentence])], ignore_index = True, axis = 0)\n",
    "                print(len(df))"
   ]
  },
  {
   "cell_type": "code",
   "execution_count": null,
   "metadata": {},
   "outputs": [],
   "source": [
    "df"
   ]
  }
 ],
 "metadata": {
  "kernelspec": {
   "display_name": "agent-dashboard",
   "language": "python",
   "name": "python3"
  },
  "language_info": {
   "codemirror_mode": {
    "name": "ipython",
    "version": 3
   },
   "file_extension": ".py",
   "mimetype": "text/x-python",
   "name": "python",
   "nbconvert_exporter": "python",
   "pygments_lexer": "ipython3",
   "version": "3.10.12"
  }
 },
 "nbformat": 4,
 "nbformat_minor": 2
}
